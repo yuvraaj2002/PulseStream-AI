{
 "cells": [
  {
   "cell_type": "code",
   "execution_count": 3,
   "id": "502a453c",
   "metadata": {},
   "outputs": [],
   "source": [
    "import requests, json, time\n",
    "from kafka import KafkaProducer"
   ]
  },
  {
   "cell_type": "code",
   "execution_count": 5,
   "id": "f315cbf2",
   "metadata": {},
   "outputs": [],
   "source": [
    "API_KEY = \"eb76b05c-5e2c-4727-a3b0-d48df7c6ff6b\"\n",
    "API_URL = \"https://newsapi.ai/api/v1/article/getArticles\""
   ]
  },
  {
   "cell_type": "code",
   "execution_count": null,
   "id": "feeb24f1",
   "metadata": {},
   "outputs": [
    {
     "name": "stdout",
     "output_type": "stream",
     "text": [
      "Error 401 The access token that was provided is not recognized. Unable to execute the request.\n"
     ]
    },
    {
     "ename": "",
     "evalue": "",
     "output_type": "error",
     "traceback": [
      "\u001b[1;31mThe Kernel crashed while executing code in the current cell or a previous cell. \n",
      "\u001b[1;31mPlease review the code in the cell(s) to identify a possible cause of the failure. \n",
      "\u001b[1;31mClick <a href='https://aka.ms/vscodeJupyterKernelCrash'>here</a> for more info. \n",
      "\u001b[1;31mView Jupyter <a href='command:jupyter.viewOutput'>log</a> for further details."
     ]
    }
   ],
   "source": [
    "headers = {\n",
    "    \"Content-Type\":\"application/json\",\n",
    "    \"Authorization\": f\"Bearer {API_KEY}\"\n",
    "    \n",
    "}\n",
    "\n",
    "payload = {\n",
    "    \"query\": {\n",
    "        \"keyword\": \"AI OR artificial intelligence\",\n",
    "        \"lang\": \"eng\"\n",
    "    },\n",
    "    \"resultType\": \"articles\",\n",
    "    \"articlesPage\": 1,\n",
    "    \"articlesCount\": 5\n",
    "}\n",
    "\n",
    "response = requests.post(API_URL,headers=headers,json=payload)\n",
    "\n",
    "if response.status_code == 200:\n",
    "    data = response.json()\n",
    "    print(\"Articles fetched \"\n",
    "          )\n",
    "    print(json.dumps(data,indent=2))\n",
    "else:\n",
    "    print(\"Error\",response.status_code,response.text)"
   ]
  },
  {
   "cell_type": "code",
   "execution_count": null,
   "id": "35381701",
   "metadata": {},
   "outputs": [],
   "source": []
  }
 ],
 "metadata": {
  "kernelspec": {
   "display_name": "pulsestream-ai",
   "language": "python",
   "name": "python3"
  },
  "language_info": {
   "codemirror_mode": {
    "name": "ipython",
    "version": 3
   },
   "file_extension": ".py",
   "mimetype": "text/x-python",
   "name": "python",
   "nbconvert_exporter": "python",
   "pygments_lexer": "ipython3",
   "version": "3.10.0"
  }
 },
 "nbformat": 4,
 "nbformat_minor": 5
}
